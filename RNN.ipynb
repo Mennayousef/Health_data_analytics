{
 "cells": [
  {
   "cell_type": "markdown",
   "id": "e431a742-0290-42ec-ba1a-95018e8af8ee",
   "metadata": {},
   "source": [
    "## Recurrent Neural network"
   ]
  },
  {
   "cell_type": "markdown",
   "id": "ab766ac4-9cb5-4688-a8c9-19e1251fbfab",
   "metadata": {},
   "source": [
    "Here we will use a covid 19 confirmed new infection data set. "
   ]
  },
  {
   "cell_type": "code",
   "execution_count": 23,
   "id": "d98e4b7a-156b-4a62-97f1-d2ce2290660f",
   "metadata": {},
   "outputs": [],
   "source": [
    "import pandas as pd\n",
    "import numpy as np\n",
    "from sklearn.preprocessing import MinMaxScaler\n",
    "from keras.models import Sequential\n",
    "from keras.layers import Dense, LSTM\n",
    "import matplotlib.pyplot as plt\n"
   ]
  },
  {
   "cell_type": "code",
   "execution_count": 24,
   "id": "4936f9fa-6bc2-46e5-b042-c021ac745c14",
   "metadata": {},
   "outputs": [
    {
     "data": {
      "text/html": [
       "<div>\n",
       "<style scoped>\n",
       "    .dataframe tbody tr th:only-of-type {\n",
       "        vertical-align: middle;\n",
       "    }\n",
       "\n",
       "    .dataframe tbody tr th {\n",
       "        vertical-align: top;\n",
       "    }\n",
       "\n",
       "    .dataframe thead th {\n",
       "        text-align: right;\n",
       "    }\n",
       "</style>\n",
       "<table border=\"1\" class=\"dataframe\">\n",
       "  <thead>\n",
       "    <tr style=\"text-align: right;\">\n",
       "      <th></th>\n",
       "      <th>date</th>\n",
       "      <th>new_infections</th>\n",
       "    </tr>\n",
       "  </thead>\n",
       "  <tbody>\n",
       "    <tr>\n",
       "      <th>0</th>\n",
       "      <td>2020-01-22</td>\n",
       "      <td>0.0</td>\n",
       "    </tr>\n",
       "    <tr>\n",
       "      <th>1</th>\n",
       "      <td>2020-01-23</td>\n",
       "      <td>0.0</td>\n",
       "    </tr>\n",
       "    <tr>\n",
       "      <th>2</th>\n",
       "      <td>2020-01-24</td>\n",
       "      <td>0.0</td>\n",
       "    </tr>\n",
       "    <tr>\n",
       "      <th>3</th>\n",
       "      <td>2020-01-25</td>\n",
       "      <td>0.0</td>\n",
       "    </tr>\n",
       "    <tr>\n",
       "      <th>4</th>\n",
       "      <td>2020-01-26</td>\n",
       "      <td>0.0</td>\n",
       "    </tr>\n",
       "  </tbody>\n",
       "</table>\n",
       "</div>"
      ],
      "text/plain": [
       "         date  new_infections\n",
       "0  2020-01-22             0.0\n",
       "1  2020-01-23             0.0\n",
       "2  2020-01-24             0.0\n",
       "3  2020-01-25             0.0\n",
       "4  2020-01-26             0.0"
      ]
     },
     "execution_count": 24,
     "metadata": {},
     "output_type": "execute_result"
    }
   ],
   "source": [
    "#load the dataset\n",
    "df = pd.read_csv('Covid_19_train.csv', sep = \",\", header=None )\n",
    "df.columns = [\"date\", \"new_infections\"]\n",
    "df.head()"
   ]
  },
  {
   "cell_type": "code",
   "execution_count": 25,
   "id": "c022681b-5c84-48a4-9f9b-d28162087ff7",
   "metadata": {},
   "outputs": [
    {
     "name": "stdout",
     "output_type": "stream",
     "text": [
      "[[0.00000e+00]\n",
      " [0.00000e+00]\n",
      " [0.00000e+00]\n",
      " [0.00000e+00]\n",
      " [0.00000e+00]\n",
      " [0.00000e+00]\n",
      " [0.00000e+00]\n",
      " [0.00000e+00]\n",
      " [0.00000e+00]\n",
      " [2.00000e+00]\n",
      " [2.00000e+00]\n",
      " [2.00000e+00]\n",
      " [2.00000e+00]\n",
      " [2.00000e+00]\n",
      " [2.00000e+00]\n",
      " [2.00000e+00]\n",
      " [3.00000e+00]\n",
      " [3.00000e+00]\n",
      " [3.00000e+00]\n",
      " [3.00000e+00]\n",
      " [3.00000e+00]\n",
      " [3.00000e+00]\n",
      " [3.00000e+00]\n",
      " [3.00000e+00]\n",
      " [3.00000e+00]\n",
      " [3.00000e+00]\n",
      " [3.00000e+00]\n",
      " [3.00000e+00]\n",
      " [3.00000e+00]\n",
      " [3.00000e+00]\n",
      " [2.00000e+01]\n",
      " [6.20000e+01]\n",
      " [1.55000e+02]\n",
      " [2.29000e+02]\n",
      " [3.22000e+02]\n",
      " [4.53000e+02]\n",
      " [6.55000e+02]\n",
      " [8.88000e+02]\n",
      " [1.12800e+03]\n",
      " [1.69400e+03]\n",
      " [2.03600e+03]\n",
      " [2.50200e+03]\n",
      " [3.08900e+03]\n",
      " [3.85800e+03]\n",
      " [4.63600e+03]\n",
      " [5.88300e+03]\n",
      " [7.37500e+03]\n",
      " [9.17200e+03]\n",
      " [1.01490e+04]\n",
      " [1.24620e+04]\n",
      " [1.24620e+04]\n",
      " [1.76600e+04]\n",
      " [2.11570e+04]\n",
      " [2.47470e+04]\n",
      " [2.79800e+04]\n",
      " [3.15060e+04]\n",
      " [3.57130e+04]\n",
      " [4.10350e+04]\n",
      " [4.70210e+04]\n",
      " [5.35780e+04]\n",
      " [5.91380e+04]\n",
      " [6.39270e+04]\n",
      " [6.91760e+04]\n",
      " [7.43860e+04]\n",
      " [8.05890e+04]\n",
      " [8.64980e+04]\n",
      " [9.24720e+04]\n",
      " [9.76890e+04]\n",
      " [1.01739e+05]\n",
      " [1.05792e+05]\n",
      " [1.10574e+05]\n",
      " [1.15242e+05]\n",
      " [1.19827e+05]\n",
      " [1.24632e+05]\n",
      " [1.28948e+05]\n",
      " [1.32547e+05]\n",
      " [1.35586e+05]]\n"
     ]
    }
   ],
   "source": [
    "#preprocess the data\n",
    "data = df['new_infections'].values\n",
    "data = data.reshape(-1,1)\n",
    "print(data)"
   ]
  },
  {
   "cell_type": "code",
   "execution_count": 26,
   "id": "ce173d52-09d2-4d1f-ba21-e0553e507b04",
   "metadata": {},
   "outputs": [],
   "source": [
    "# scale the data\n",
    "scaler = MinMaxScaler()\n",
    "scaled_data = scaler.fit_transform(data)"
   ]
  },
  {
   "cell_type": "code",
   "execution_count": 27,
   "id": "46f36624-4326-478a-a3c1-80873caca05f",
   "metadata": {},
   "outputs": [],
   "source": [
    "# split the data into train and test\n",
    "## np.ceil() will round the result to the nearest whole number\n",
    "train_data_len = int(np.ceil(len(scaled_data)* .95))\n",
    "train_data = scaled_data[0:int(train_data_len),:]\n",
    "#take the last 7 datapoints in the train data and continue testing till the end of the dataset\n",
    "test_data = scaled_data[int(train_data_len)-7:,:]"
   ]
  },
  {
   "cell_type": "markdown",
   "id": "2ae93c8d-0626-45ce-8248-a4d814d009b0",
   "metadata": {},
   "source": [
    "## Splitting Data into Sequences\n",
    "Create a function create_sequences() to split the scaled data into sequences of 7 days each, where the target of each sequence is the number of new cases on the 8th day."
   ]
  },
  {
   "cell_type": "code",
   "execution_count": 30,
   "id": "e39b7d07-bdbd-4bee-895c-363e60e38459",
   "metadata": {},
   "outputs": [
    {
     "name": "stdout",
     "output_type": "stream",
     "text": [
      "(67,)\n"
     ]
    }
   ],
   "source": [
    "# create sequences\n",
    "def create_sequences(data):\n",
    "    X, y = [],[]\n",
    "    for i in range(7, len(data)):\n",
    "        X.append(data[i-7:i,0])\n",
    "        y.append(data[i,0])\n",
    "    return np.array(X), np.array(y)\n",
    "    \n",
    "X_train, y_train = create_sequences(train_data)\n",
    "X_test, y_test = create_sequences(test_data)\n",
    "\n",
    "# reshape the input into the shape required by LSTM layers\n",
    "## This reshaping is necessary to match the expected input shape of the LSTM layers, where the input shape is (batch_size, sequence_length, num_features)\n",
    "X_train= np.reshape(X_train, (X_train.shape[0], X_train.shape[1],1))\n",
    "X_test= np.reshape(X_test,(X_test.shape[0], X_test.shape[1],1))\n",
    "\n",
    "print(y_train.shape)"
   ]
  },
  {
   "cell_type": "code",
   "execution_count": 34,
   "id": "2982058b-4ba2-440b-8ad1-956cb24ad3a2",
   "metadata": {},
   "outputs": [
    {
     "name": "stdout",
     "output_type": "stream",
     "text": [
      "Epoch 1/50\n"
     ]
    },
    {
     "name": "stderr",
     "output_type": "stream",
     "text": [
      "2024-01-09 13:26:40.617497: W tensorflow/tsl/platform/profile_utils/cpu_utils.cc:128] Failed to get CPU frequency: 0 Hz\n"
     ]
    },
    {
     "name": "stdout",
     "output_type": "stream",
     "text": [
      "3/3 [==============================] - 1s 5ms/step - loss: 0.1131\n",
      "Epoch 2/50\n",
      "3/3 [==============================] - 0s 5ms/step - loss: 0.0753\n",
      "Epoch 3/50\n",
      "3/3 [==============================] - 0s 4ms/step - loss: 0.0482\n",
      "Epoch 4/50\n",
      "3/3 [==============================] - 0s 4ms/step - loss: 0.0362\n",
      "Epoch 5/50\n",
      "3/3 [==============================] - 0s 3ms/step - loss: 0.0266\n",
      "Epoch 6/50\n",
      "3/3 [==============================] - 0s 4ms/step - loss: 0.0176\n",
      "Epoch 7/50\n",
      "3/3 [==============================] - 0s 3ms/step - loss: 0.0075\n",
      "Epoch 8/50\n",
      "3/3 [==============================] - 0s 3ms/step - loss: 0.0026\n",
      "Epoch 9/50\n",
      "3/3 [==============================] - 0s 4ms/step - loss: 0.0053\n",
      "Epoch 10/50\n",
      "3/3 [==============================] - 0s 3ms/step - loss: 0.0073\n",
      "Epoch 11/50\n",
      "3/3 [==============================] - 0s 3ms/step - loss: 0.0046\n",
      "Epoch 12/50\n",
      "3/3 [==============================] - 0s 3ms/step - loss: 0.0023\n",
      "Epoch 13/50\n",
      "3/3 [==============================] - 0s 4ms/step - loss: 0.0023\n",
      "Epoch 14/50\n",
      "3/3 [==============================] - 0s 3ms/step - loss: 0.0031\n",
      "Epoch 15/50\n",
      "3/3 [==============================] - 0s 4ms/step - loss: 0.0029\n",
      "Epoch 16/50\n",
      "3/3 [==============================] - 0s 4ms/step - loss: 0.0025\n",
      "Epoch 17/50\n",
      "3/3 [==============================] - 0s 3ms/step - loss: 0.0021\n",
      "Epoch 18/50\n",
      "3/3 [==============================] - 0s 4ms/step - loss: 0.0018\n",
      "Epoch 19/50\n",
      "3/3 [==============================] - 0s 4ms/step - loss: 0.0019\n",
      "Epoch 20/50\n",
      "3/3 [==============================] - 0s 3ms/step - loss: 0.0019\n",
      "Epoch 21/50\n",
      "3/3 [==============================] - 0s 3ms/step - loss: 0.0020\n",
      "Epoch 22/50\n",
      "3/3 [==============================] - 0s 3ms/step - loss: 0.0027\n",
      "Epoch 23/50\n",
      "3/3 [==============================] - 0s 3ms/step - loss: 0.0022\n",
      "Epoch 24/50\n",
      "3/3 [==============================] - 0s 3ms/step - loss: 0.0016\n",
      "Epoch 25/50\n",
      "3/3 [==============================] - 0s 4ms/step - loss: 0.0025\n",
      "Epoch 26/50\n",
      "3/3 [==============================] - 0s 3ms/step - loss: 0.0019\n",
      "Epoch 27/50\n",
      "3/3 [==============================] - 0s 3ms/step - loss: 0.0014\n",
      "Epoch 28/50\n",
      "3/3 [==============================] - 0s 4ms/step - loss: 0.0019\n",
      "Epoch 29/50\n",
      "3/3 [==============================] - 0s 3ms/step - loss: 0.0016\n",
      "Epoch 30/50\n",
      "3/3 [==============================] - 0s 4ms/step - loss: 0.0012\n",
      "Epoch 31/50\n",
      "3/3 [==============================] - 0s 6ms/step - loss: 0.0012\n",
      "Epoch 32/50\n",
      "3/3 [==============================] - 0s 3ms/step - loss: 0.0011\n",
      "Epoch 33/50\n",
      "3/3 [==============================] - 0s 3ms/step - loss: 0.0010\n",
      "Epoch 34/50\n",
      "3/3 [==============================] - 0s 3ms/step - loss: 0.0014\n",
      "Epoch 35/50\n",
      "3/3 [==============================] - 0s 3ms/step - loss: 0.0013\n",
      "Epoch 36/50\n",
      "3/3 [==============================] - 0s 4ms/step - loss: 9.8373e-04\n",
      "Epoch 37/50\n",
      "3/3 [==============================] - 0s 3ms/step - loss: 0.0017\n",
      "Epoch 38/50\n",
      "3/3 [==============================] - 0s 3ms/step - loss: 0.0013\n",
      "Epoch 39/50\n",
      "3/3 [==============================] - 0s 4ms/step - loss: 9.5226e-04\n",
      "Epoch 40/50\n",
      "3/3 [==============================] - 0s 3ms/step - loss: 0.0014\n",
      "Epoch 41/50\n",
      "3/3 [==============================] - 0s 3ms/step - loss: 0.0010\n",
      "Epoch 42/50\n",
      "3/3 [==============================] - 0s 4ms/step - loss: 7.7152e-04\n",
      "Epoch 43/50\n",
      "3/3 [==============================] - 0s 3ms/step - loss: 0.0012\n",
      "Epoch 44/50\n",
      "3/3 [==============================] - 0s 3ms/step - loss: 9.9109e-04\n",
      "Epoch 45/50\n",
      "3/3 [==============================] - 0s 4ms/step - loss: 6.5230e-04\n",
      "Epoch 46/50\n",
      "3/3 [==============================] - 0s 4ms/step - loss: 6.7462e-04\n",
      "Epoch 47/50\n",
      "3/3 [==============================] - 0s 3ms/step - loss: 6.4426e-04\n",
      "Epoch 48/50\n",
      "3/3 [==============================] - 0s 4ms/step - loss: 6.0255e-04\n",
      "Epoch 49/50\n",
      "3/3 [==============================] - 0s 3ms/step - loss: 6.3157e-04\n",
      "Epoch 50/50\n",
      "3/3 [==============================] - 0s 3ms/step - loss: 6.0899e-04\n"
     ]
    },
    {
     "data": {
      "text/plain": [
       "<keras.callbacks.History at 0x14f4cf490>"
      ]
     },
     "execution_count": 34,
     "metadata": {},
     "output_type": "execute_result"
    }
   ],
   "source": [
    "# create the LSTM\n",
    "model= Sequential()\n",
    "model.add(LSTM(units=50, return_sequences=True, input_shape=(X_train.shape[1], 1)))\n",
    "model.add(LSTM(units=50, return_sequences=False))\n",
    "model.add(Dense(units=25))\n",
    "model.add(Dense(units=1))\n",
    "\n",
    "model.compile(optimizer='adam', loss='mean_squared_error')\n",
    "\n",
    "# Train the model\n",
    "model.fit(X_train, y_train, epochs=50, batch_size=32)"
   ]
  },
  {
   "cell_type": "code",
   "execution_count": 35,
   "id": "830cf0dd-8032-470a-ac2d-15fa094b7c6e",
   "metadata": {},
   "outputs": [
    {
     "name": "stdout",
     "output_type": "stream",
     "text": [
      "1/1 [==============================] - 0s 317ms/step\n"
     ]
    }
   ],
   "source": [
    "# Predicting on test data\n",
    "predicted_values = model.predict(X_test)\n",
    "predicted_values = scaler.inverse_transform(predicted_values)"
   ]
  },
  {
   "cell_type": "code",
   "execution_count": 36,
   "id": "270808a7-b904-4882-a59e-dd8fc610c7c4",
   "metadata": {},
   "outputs": [
    {
     "data": {
      "image/png": "[encoded data removed]",
      "text/plain": [
       "<Figure size 1600x800 with 1 Axes>"
      ]
     },
     "metadata": {},
     "output_type": "display_data"
    }
   ],
   "source": [
    "# Getting the real values\n",
    "real_values = scaler.inverse_transform(y_test.reshape(-1, 1))\n",
    "\n",
    "# Plotting the results\n",
    "plt.figure(figsize=(16,8))\n",
    "plt.scatter(range(len(real_values)), real_values, color='blue', label='Actual number of new infections')\n",
    "plt.scatter(range(len(predicted_values)), predicted_values, color='red', label='Predicted number of new infections')\n",
    "plt.title('New Infections Prediction')\n",
    "plt.xlabel('Time')\n",
    "plt.ylabel('Number of new infections')\n",
    "plt.legend()\n",
    "plt.show()"
   ]
  }
 ],
 "metadata": {
  "kernelspec": {
   "display_name": "Python 3 (ipykernel)",
   "language": "python",
   "name": "python3"
  },
  "language_info": {
   "codemirror_mode": {
    "name": "ipython",
    "version": 3
   },
   "file_extension": ".py",
   "mimetype": "text/x-python",
   "name": "python",
   "nbconvert_exporter": "python",
   "pygments_lexer": "ipython3",
   "version": "3.11.0"
  }
 },
 "nbformat": 4,
 "nbformat_minor": 5
}
